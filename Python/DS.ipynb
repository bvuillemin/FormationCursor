{
 "cells": [
  {
   "cell_type": "markdown",
   "metadata": {},
   "source": [
    "Charge le fichier creditcard.csv et affiche les premières lignes"
   ]
  },
  {
   "cell_type": "code",
   "execution_count": null,
   "metadata": {
    "vscode": {
     "languageId": "plaintext"
    }
   },
   "outputs": [],
   "source": []
  },
  {
   "cell_type": "markdown",
   "metadata": {},
   "source": [
    "Analyse le jeu de données en effectuant une description des variables (statistiques descriptives, distribution) et détecte les valeurs manquantes."
   ]
  },
  {
   "cell_type": "code",
   "execution_count": null,
   "metadata": {
    "vscode": {
     "languageId": "plaintext"
    }
   },
   "outputs": [],
   "source": []
  },
  {
   "cell_type": "markdown",
   "metadata": {},
   "source": [
    "Affiche la distribution des transactions frauduleuses vs normales\n",
    "\n",
    "Affiche la distribution des montants\n",
    "\n",
    "Affiche la matrice de corrélation\n",
    "\n",
    "Affiche la distribution des montants (échelle log)\n",
    "\n",
    "Affiche la distribution des montants en fonction du temps"
   ]
  },
  {
   "cell_type": "code",
   "execution_count": null,
   "metadata": {
    "vscode": {
     "languageId": "plaintext"
    }
   },
   "outputs": [],
   "source": []
  },
  {
   "cell_type": "markdown",
   "metadata": {},
   "source": [
    "Teste plusieurs modèles (logistic regression, random forest, et XGBoost) sur les données préparées et évalue leur performance avec accuracy, precision, recall, et AUC."
   ]
  },
  {
   "cell_type": "code",
   "execution_count": null,
   "metadata": {
    "vscode": {
     "languageId": "plaintext"
    }
   },
   "outputs": [],
   "source": []
  },
  {
   "cell_type": "markdown",
   "metadata": {},
   "source": [
    "Optimise les hyperparamètres pour le modèle de Random Forest avec une recherche par grille (GridSearchCV) en utilisant la précision et le rappel comme métriques de référence."
   ]
  },
  {
   "cell_type": "code",
   "execution_count": null,
   "metadata": {
    "vscode": {
     "languageId": "plaintext"
    }
   },
   "outputs": [],
   "source": []
  },
  {
   "cell_type": "markdown",
   "metadata": {},
   "source": [
    "Crée un rapport final en Markdown avec les résultats de chaque étape, incluant les graphiques, les scores de performance et les insights principaux."
   ]
  }
 ],
 "metadata": {
  "language_info": {
   "name": "python"
  }
 },
 "nbformat": 4,
 "nbformat_minor": 2
}
